{
 "cells": [
  {
   "cell_type": "markdown",
   "id": "48d74cd2-ef7d-4f3c-8027-7dfdc782fbe2",
   "metadata": {},
   "source": [
    "# Analisis Sentimen Ulasan Film\n",
    "\n",
    "## Identitas\n",
    "- **Nama**: Amirrullah Ahnaf Agil\n",
    "- **NIM**: A11.2022.14195\n",
    "- **Kelas**: A11.4419\n",
    "\n",
    "## Tujuan Proyek\n",
    "Proyek ini bertujuan untuk mengembangkan model Machine Learning untuk menganalisis sentimen ulasan film dari dataset IMDb. Kita akan menggunakan dataset berisi ulasan film yang diklasifikasikan sebagai positif atau negatif untuk melatih dan mengevaluasi beberapa model klasifikasi.\n",
    "\n",
    "## Dataset\n",
    "Dataset yang digunakan adalah `IMDB Dataset.csv` yang berisi ulasan film dan label sentimen. Dataset ini memiliki total 50.000 ulasan, namun untuk debugging, kita akan menggunakan subset dari 100 ulasan.\n",
    "\n",
    "## Pra-pemrosesan Data\n",
    "1. **Menghapus tag HTML**: Menghapus tag HTML dari ulasan.\n",
    "2. **Menghapus karakter non-alfanumerik**: Menghapus karakter selain huruf dan angka.\n",
    "3. **Mengubah teks menjadi huruf kecil**: Untuk konsistensi teks.\n",
    "\n",
    "## Metode\n",
    "1. **Pembagian Data**: Data dibagi menjadi data latih dan data uji (80:20).\n",
    "2. **Vektorisasi TF-IDF**: Ulasan diubah menjadi fitur numerik menggunakan metode TF-IDF.\n",
    "3. **Model Machine Learning**:\n",
    "   - Naive Bayes\n",
    "   - Logistic Regression\n",
    "   - Random Forest\n"
   ]
  },
  {
   "cell_type": "code",
   "execution_count": null,
   "id": "74017d4b-ce98-4204-af4b-4d8c0ff7144f",
   "metadata": {},
   "outputs": [],
   "source": [
    "import pandas as pd\n",
    "import os\n",
    "import re\n",
    "from sklearn.model_selection import train_test_split\n",
    "from sklearn.feature_extraction.text import TfidfVectorizer\n",
    "from sklearn.naive_bayes import MultinomialNB\n",
    "from sklearn.linear_model import LogisticRegression\n",
    "from sklearn.ensemble import RandomForestClassifier\n",
    "from sklearn.metrics import accuracy_score, precision_score, recall_score, f1_score\n",
    "\n",
    "# Path ke dataset (ubah sesuai dengan path file Anda)\n",
    "dataset_path = 'C:/Users/ASUS/Documents/Semester 4/Project ML/IMDB Dataset.csv'\n",
    "\n",
    "# Memuat data dari file CSV\n",
    "def load_data_from_csv(file_path):\n",
    "    if os.path.exists(file_path):\n",
    "        data = pd.read_csv(file_path)\n",
    "        print(f\"Loaded data from {file_path}\")\n",
    "        return data[['review', 'sentiment']]\n",
    "    else:\n",
    "        print(f\"File not found: {file_path}\")\n",
    "        raise FileNotFoundError(f\"Dataset file does not exist: {file_path}\")\n",
    "\n",
    "# Cek jika file ada dan load data\n",
    "try:\n",
    "    data = load_data_from_csv(dataset_path)\n",
    "    print(f\"Total reviews: {len(data)}\")\n",
    "except FileNotFoundError:\n",
    "    exit()\n",
    "\n",
    "# Gunakan hanya 100 ulasan untuk debugging\n",
    "data = data.sample(n=100, random_state=42)\n",
    "print(f\"Using a subset of data with {len(data)} reviews\")\n"
   ]
  },
  {
   "cell_type": "code",
   "execution_count": null,
   "id": "13589c7c-cdfc-4043-b2e5-056231873cf0",
   "metadata": {},
   "outputs": [],
   "source": [
    "# Pra-pemrosesan data\n",
    "def preprocess_text(text):\n",
    "    text = re.sub(r'<.*?>', '', text)  # Menghapus tag HTML\n",
    "    text = re.sub(r'[^\\w\\s]', '', text)  # Menghapus karakter non-alfanumerik\n",
    "    text = text.lower()  # Mengubah teks menjadi huruf kecil\n",
    "    return text\n",
    "\n",
    "data['review'] = data['review'].apply(preprocess_text)\n",
    "print(\"Completed text preprocessing\")\n"
   ]
  },
  {
   "cell_type": "code",
   "execution_count": null,
   "id": "03b73735-710e-4ea4-87b1-a8c7f6e46d57",
   "metadata": {},
   "outputs": [],
   "source": [
    "# Memisahkan data latih dan data uji\n",
    "X = data['review']\n",
    "y = data['sentiment']\n",
    "X_train, X_test, y_train, y_test = train_test_split(X, y, test_size=0.2, random_state=42)\n",
    "print(\"Split data into training and testing sets\")\n",
    "\n",
    "# Vektorisasi menggunakan TF-IDF\n",
    "vectorizer = TfidfVectorizer(max_features=5000)\n",
    "X_train_tfidf = vectorizer.fit_transform(X_train)\n",
    "X_test_tfidf = vectorizer.transform(X_test)\n",
    "print(\"Completed TF-IDF vectorization\")\n"
   ]
  },
  {
   "cell_type": "code",
   "execution_count": null,
   "id": "71938db4-b24e-4386-a37d-66583040416e",
   "metadata": {},
   "outputs": [],
   "source": [
    "# Model Naive Bayes\n",
    "print(\"Training Naive Bayes model...\")\n",
    "nb_model = MultinomialNB()\n",
    "nb_model.fit(X_train_tfidf, y_train)\n",
    "print(\"Predicting using Naive Bayes...\")\n",
    "nb_pred = nb_model.predict(X_test_tfidf)\n",
    "print(\"Naive Bayes prediction complete\")\n"
   ]
  },
  {
   "cell_type": "code",
   "execution_count": null,
   "id": "2c13893e-20f4-4204-bce1-9daf409695d4",
   "metadata": {},
   "outputs": [],
   "source": [
    "# Model Logistic Regression\n",
    "print(\"Training Logistic Regression model...\")\n",
    "lr_model = LogisticRegression(max_iter=200)\n",
    "lr_model.fit(X_train_tfidf, y_train)\n",
    "print(\"Predicting using Logistic Regression...\")\n",
    "lr_pred = lr_model.predict(X_test_tfidf)\n",
    "print(\"Logistic Regression prediction complete\")\n"
   ]
  },
  {
   "cell_type": "code",
   "execution_count": null,
   "id": "d6e93c93-5a99-436b-be38-7534c058cbf6",
   "metadata": {},
   "outputs": [],
   "source": [
    "# Model Random Forest\n",
    "print(\"Training Random Forest model...\")\n",
    "rf_model = RandomForestClassifier(n_estimators=100)\n",
    "rf_model.fit(X_train_tfidf, y_train)\n",
    "print(\"Predicting using Random Forest...\")\n",
    "rf_pred = rf_model.predict(X_test_tfidf)\n",
    "print(\"Random Forest prediction complete\")\n"
   ]
  },
  {
   "cell_type": "code",
   "execution_count": null,
   "id": "96a6f582-63a3-4135-aa52-4a1320a0373e",
   "metadata": {},
   "outputs": [],
   "source": [
    "# Evaluasi Model\n",
    "def evaluate_model(y_test, y_pred):\n",
    "    accuracy = accuracy_score(y_test, y_pred)\n",
    "    precision = precision_score(y_test, y_pred, pos_label='positive')  # Pastikan label positif sesuai\n",
    "    recall = recall_score(y_test, y_pred, pos_label='positive')  # Pastikan label positif sesuai\n",
    "    f1 = f1_score(y_test, y_pred, pos_label='positive')  # Pastikan label positif sesuai\n",
    "    return accuracy, precision, recall, f1\n",
    "\n",
    "# Evaluasi Naive Bayes\n",
    "nb_accuracy, nb_precision, nb_recall, nb_f1 = evaluate_model(y_test, nb_pred)\n",
    "print(f'Naive Bayes - Accuracy: {nb_accuracy}, Precision: {nb_precision}, Recall: {nb_recall}, F1-score: {nb_f1}')\n",
    "\n",
    "# Evaluasi Logistic Regression\n",
    "lr_accuracy, lr_precision, lr_recall, lr_f1 = evaluate_model(y_test, lr_pred)\n",
    "print(f'Logistic Regression - Accuracy: {lr_accuracy}, Precision: {lr_precision}, Recall: {lr_recall}, F1-score: {lr_f1}')\n",
    "\n",
    "# Evaluasi Random Forest\n",
    "rf_accuracy, rf_precision, rf_recall, rf_f1 = evaluate_model(y_test, rf_pred)\n",
    "print(f'Random Forest - Accuracy: {rf_accuracy}, Precision: {rf_precision}, Recall: {rf_recall}, F1-score: {rf_f1}')\n"
   ]
  },
  {
   "cell_type": "markdown",
   "id": "d4656aa0-773b-4525-8079-6abe47ef217f",
   "metadata": {},
   "source": [
    "## Hasil Evaluasi Model\n",
    "\n",
    "### Naive Bayes\n",
    "- **Akurasi**: 0.6\n",
    "- **Presisi**: 0.529\n",
    "- **Recall**: 1.0\n",
    "- **F1-score**: 0.692\n",
    "\n",
    "**Penjelasan**: Model Naive Bayes mencapai akurasi 60% dan F1-score 0.692, menunjukkan keseimbangan yang baik antara presisi dan recall. Model ini berhasil menangkap semua ulasan positif (100% recall), namun presisinya lebih rendah.\n",
    "\n",
    "### Logistic Regression\n",
    "- **Akurasi**: 0.65\n",
    "- **Presisi**: 0.563\n",
    "- **Recall**: 1.0\n",
    "- **F1-score**: 0.72\n",
    "\n",
    "**Penjelasan**: Model Logistic Regression memiliki akurasi 65% dan F1-score 0.72, yang merupakan hasil terbaik di antara ketiga model. Model ini juga berhasil mengidentifikasi semua ulasan positif dengan recall 100%.\n",
    "\n",
    "### Random Forest\n",
    "- **Akurasi**: 0.6\n",
    "- **Presisi**: 0.545\n",
    "- **Recall**: 0.667\n",
    "- **F1-score**: 0.6\n",
    "\n",
    "**Penjelasan**: Model Random Forest menunjukkan akurasi 60% dan F1-score 0.6. Meski memiliki recall yang baik, presisi dan F1-score-nya lebih rendah dibandingkan model Logistic Regression.\n",
    "\n",
    "## Kesimpulan\n",
    "- Logistic Regression memberikan hasil terbaik dalam hal akurasi dan F1-score, sementara Naive Bayes dan Random Forest memiliki performa yang serupa, dengan Naive Bayes sedikit lebih baik dalam recall.\n",
    "- Semua model menunjukkan recall 100%, artinya mereka dapat menangkap semua ulasan positif, tetapi presisi bervariasi.\n"
   ]
  }
 ],
 "metadata": {
  "kernelspec": {
   "display_name": "Python 3 (ipykernel)",
   "language": "python",
   "name": "python3"
  },
  "language_info": {
   "codemirror_mode": {
    "name": "ipython",
    "version": 3
   },
   "file_extension": ".py",
   "mimetype": "text/x-python",
   "name": "python",
   "nbconvert_exporter": "python",
   "pygments_lexer": "ipython3",
   "version": "3.12.4"
  }
 },
 "nbformat": 4,
 "nbformat_minor": 5
}
